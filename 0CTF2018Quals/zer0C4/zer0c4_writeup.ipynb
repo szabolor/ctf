{
 "cells": [
  {
   "cell_type": "markdown",
   "metadata": {},
   "source": [
    "# zer0C4 -- a crypto challenge from 0CTF 2018\n",
    "(solved by szabolor)"
   ]
  },
  {
   "cell_type": "markdown",
   "metadata": {},
   "source": [
    "## Modified RC4-32 cipher"
   ]
  },
  {
   "cell_type": "markdown",
   "metadata": {},
   "source": [
    "We were given a slightly modified version of an RC4 cipher which operates on a reduced modulo of 32. The important difference of the conventional RC4 cipher can be found at the initialization function (`ksa`): the counter `i` start from 1 instead of 0!\n",
    "\n",
    "The server-side software generates a secret key and then let the client (you) to try 512\\*1500=768000 pieces of 16 byte data key XOR-ed with its secret key as a new cipher. After that you must guess the secret key that the server used.\n",
    "\n",
    "Mostly what I have done is more or less \"exploratory data analysis\" based on the correlation of the key and the first two output bytes. But thanks God, it seemed to be worked :)"
   ]
  },
  {
   "cell_type": "code",
   "execution_count": 1,
   "metadata": {},
   "outputs": [],
   "source": [
    "%matplotlib inline\n",
    "import matplotlib\n",
    "from matplotlib import pyplot as plt\n",
    "\n",
    "import os\n",
    "import binascii\n",
    "\n",
    "N = 5\n",
    "m = (1 << N)\n",
    "mask = (1 << N) - 1\n",
    "klen = 16\n",
    "\n",
    "def ksa(key):\n",
    "\t\"\"\"Key-scheduling algorithm for 0ops Cipher 4\"\"\"\n",
    "\ts = list(range(1 << N))\n",
    "\ti = 0\n",
    "\tj = 0\n",
    "\twhile 1:\n",
    "\t\ti = (i + 1) & mask  # <<< Note the starting value of i=1 (!)\n",
    "\t\tj = (j + s[i] + key[i%len(key)]) & mask\n",
    "\t\ts[i], s[j] = s[j], s[i]\n",
    "\t\tif not i:\n",
    "\t\t\tbreak\n",
    "\treturn s\n",
    "\n",
    "def prga(s, n):\n",
    "\t\"\"\"Pseudo-random generation algorithm for 0ops Cipher 4\"\"\"\n",
    "\ti = 0\n",
    "\tj = 0\n",
    "\tres = bytearray()\n",
    "\tfor _ in range(n):\n",
    "\t\ti = (i + 1) & mask\n",
    "\t\tj = (j + s[i]) & mask\n",
    "\t\ts[i], s[j] = s[j], s[i]\n",
    "\t\tres.append(s[(s[i]+s[j])&mask])\n",
    "\treturn res"
   ]
  },
  {
   "cell_type": "markdown",
   "metadata": {},
   "source": [
    "## key[1] and key[2] recovery"
   ]
  },
  {
   "cell_type": "markdown",
   "metadata": {},
   "source": [
    "As previously observed[1] the first byte of the pseudorandom stream may have some degree of correlation with a very limited part of the keystream. Roos's observation was based on the conventional RC4 cipher, where the state generation counter starts with 0, but his idea could easly adapted for this case. Since the first state byte touched by the key value is just shifted by one, the most probably values comes with in a shifted expression:\n",
    "$$ s[E] = \\sum_{i=1}^E k[i] + \\frac{E(E+1)}{2} $$\n",
    "That gives $ s[1] = k[1] + 1 $ and $ s[2] = k[1] + k[2] + 3 $ with high probability.\n",
    "\n",
    "The following script checks the empirical probabilities of this hypothesis for the first few state bytes.\n",
    "\n",
    "[1]: https://netfuture.ch/1995/09/weak-keys-in-rc4/ (1995-09-22 by Andrew Roos)"
   ]
  },
  {
   "cell_type": "code",
   "execution_count": 2,
   "metadata": {},
   "outputs": [
    {
     "data": {
      "image/png": "[encoded data removed]",
      "text/plain": [
       "<Figure size 720x432 with 1 Axes>"
      ]
     },
     "metadata": {},
     "output_type": "display_data"
    }
   ],
   "source": [
    "count = 10000\n",
    "hip_table = []\n",
    "end_idx = 10\n",
    "for idx in range(1, end_idx):\n",
    "    hip = 0;\n",
    "    for i in range(count):\n",
    "        key = list(map(lambda x: x & 31, os.urandom(16)))\n",
    "        test = sum(key[1:idx+1]) + idx*(idx+1) // 2\n",
    "        res = ksa(key)\n",
    "        \n",
    "        if res[idx] == test: \n",
    "            hip += 1\n",
    "\n",
    "    hip_table.append(hip/float(count))\n",
    "\n",
    "plt.figure(figsize=(10, 6))\n",
    "plt.grid()\n",
    "plt.xticks(range(1, end_idx))\n",
    "plt.xlabel(\"i-th key byte\")\n",
    "plt.ylabel(\"probability\")\n",
    "plt.title(\"Probabilities for the modified Roos state-value hypothesis\")\n",
    "plt.bar(range(1, end_idx), hip_table);"
   ]
  },
  {
   "cell_type": "markdown",
   "metadata": {},
   "source": [
    "It can be clearly see, that the probability values are way worse that Roos's ones, (maybe) due to the reduced state-space. But it does work for the first key value at least with around 1/3 chance!"
   ]
  },
  {
   "cell_type": "markdown",
   "metadata": {},
   "source": [
    "At the first pseudorandom byte generation the $ s[s[1]+s[s[1]]] $ is returned, and -- continuing Roos's idea -- let's make that value equals with $ s[2] $ with a high probability. That could mean to use $s[1] = 1$, and from that $k[1] = 0$ follows. So finally if we get $s[2]$ that would actually mean (with a relatively high probability) $k[1]+k[2]+3 = k[2]+3$. That shows us the strong connection of the first prng byte and the 3rd byte of the key.\n",
    "\n",
    "The next script test for some correlation of $k[0]$ and $k[1]$, looking at the distribution of the $b[0]$ values and also checks the previous $b[0] == k[2] + 3$ hypothesis experimentally."
   ]
  },
  {
   "cell_type": "code",
   "execution_count": 3,
   "metadata": {
    "scrolled": true
   },
   "outputs": [],
   "source": [
    "count = 512\n",
    "crest_table=[]\n",
    "hip_table=[]\n",
    "for key_1 in range(32):\n",
    "    crest_row = []\n",
    "    hip_row = []\n",
    "    for key_2 in range(32):\n",
    "        stat = {}\n",
    "        hip = 0\n",
    "        for _ in range(count):\n",
    "            key = list(map(lambda x: x & mask, os.urandom(16)))\n",
    "            key[1] = key_1\n",
    "            key[2] = key_2\n",
    "\n",
    "            state = ksa(key)\n",
    "            res = prga(state, 16)\n",
    "\n",
    "            if res[0] in stat:\n",
    "                stat[res[0]] += 1\n",
    "            else:\n",
    "                stat[res[0]] = 1\n",
    "            \n",
    "            if res[0] == ((key[2]+3) % m):\n",
    "                hip += 1\n",
    "\n",
    "        sorted_stat = sorted(stat, key=stat.get, reverse=True)\n",
    "        crest_factor = stat[sorted_stat[0]] / float(stat[sorted_stat[1]])\n",
    "        crest_row.append(crest_factor)\n",
    "        hip_row.append(hip)\n",
    "        #print(\"key[2]=%d, crest factor: %.4f\" % (key_2, crest_factor))\n",
    "    crest_table.append(crest_row)\n",
    "    hip_table.append(hip_row)"
   ]
  },
  {
   "cell_type": "code",
   "execution_count": 4,
   "metadata": {},
   "outputs": [
    {
     "data": {
      "image/png": "[encoded data removed]",
      "text/plain": [
       "<Figure size 1296x648 with 2 Axes>"
      ]
     },
     "metadata": {},
     "output_type": "display_data"
    }
   ],
   "source": [
    "f, (ax1, ax2) = plt.subplots(1, 2)\n",
    "f.set_size_inches(18, 9)\n",
    "ax1.imshow(crest_table)\n",
    "ax1.set_xlabel(\"key[2]\")\n",
    "ax1.set_ylabel(\"key[1]\")\n",
    "ax1.set_xticks(range(0, m, 4))\n",
    "ax1.set_yticks(range(0, m, 4))\n",
    "ax1.set_title(\"key[1] and key[2] effect on the \\\"crest-factor\\\" of res[0] distribution\")\n",
    "ax2.imshow(hip_table)\n",
    "ax2.set_xlabel(\"key[2]\")\n",
    "ax2.set_ylabel(\"key[1]\")\n",
    "ax2.set_xticks(range(0, m, 4))\n",
    "ax2.set_yticks(range(0, m, 4))\n",
    "ax2.set_title(\"key[1] and key[2] effect on the res[0] with hipothesis of res[0] == key[2] (mod 32)\");"
   ]
  },
  {
   "cell_type": "markdown",
   "metadata": {},
   "source": [
    "Thus we can see, for $k[1]=0$, $b[0] = k[2] + 3$ holds for a _significant_ probability! (note that with $k[2] = 30$ this hypothesis does not work - that is 1/32 chance). Furthermore there is less chance to meet the hypothesis outside of $k[1]=0$.\n",
    "\n",
    "That means one can guess with a good probability the $k[1]$ and $k[2]$ values based on observing the $b[0]$ distribution looking for highly frequent elements."
   ]
  },
  {
   "cell_type": "markdown",
   "metadata": {},
   "source": [
    "## key[3..15] recovery"
   ]
  },
  {
   "cell_type": "markdown",
   "metadata": {},
   "source": [
    "So far we learned a correlation of $b[0]$ and $k[1], k[2]$. Thus it seems to be natural to observe the next prng output byte. (Well, this is my best justifing why I began to search for patterns at $b[1]$, although $b[1]$ isn't specifically considered in the papers I have read). The following observations came after experimenting with random keys where $k[1]$ and $k[2]$ was fixed. (So again, this is a typical \"left as an exercise to the reader\" situation -- sorry)"
   ]
  },
  {
   "cell_type": "markdown",
   "metadata": {},
   "source": [
    "The idea: what if $k[1] + k[2] \\equiv 29\\ (\\textrm{mod}\\ 32)$?"
   ]
  },
  {
   "cell_type": "markdown",
   "metadata": {},
   "source": [
    "As we noted at the beginning, at the most probably situation is $s[1] = 1+k[1]$ and $s[2] = 3+k[1]+k[2]$. So $k[1] + k[2] \\equiv 29\\ (\\textrm{mod}\\ 32)$ means, that $s[2] = 0$."
   ]
  },
  {
   "cell_type": "markdown",
   "metadata": {},
   "source": [
    "Let's go through the two steps of prng generation:\n",
    "\n",
    "1st round\n",
    "- $i=1$ and $j=s[1]=1+k[1]$\n",
    "- $\\textrm{swap}(s[1], s[1+k[1]])$\n",
    "-  $\\implies\\ s[1+k[1]] = 1+k[1]$\n",
    "\n",
    "2nd round\n",
    "- $i=2$ and $j=1+k[1]+s[2]=1+k[1]$\n",
    "- $\\textrm{swap}(s[2], s[1+k[1]])$\n",
    "-  $\\implies\\ s[1+k[1]] = 0$ and $s[2] = 1+k[1]$\n",
    "\n",
    "Finally the 2nd round return $b[1]=s[s[2]+s[1+k[1]]] = s[1+k[1]+0]=s[1+k[1]]=0$. So we can conclude that with $k[1] + k[2] \\equiv 29\\ (\\textrm{mod}\\ 32)$ condition $b[1] = 0$ holds with _high_ probability."
   ]
  },
  {
   "cell_type": "markdown",
   "metadata": {},
   "source": [
    "But $b[1]=0$ only holds if $s[2]=0$ and $s[2]=0$ is true if something else does not swap values at the key scheduling for $i>2$. For example we can force for $i=3$ to be swapped by $s[2]$ and thus there is a high chance for $s[2]\\not=0$. At the end of 2nd round $j=0$ (because we probably swapped last with 0 to get $s[2]=0$), so for the 3rd round $j = s[3]+k[3]=3+k[3]$. As we want to have $j=2\\implies k[3]=31$."
   ]
  },
  {
   "cell_type": "markdown",
   "metadata": {},
   "source": [
    "What is it mean in terms of finding the right key? Well, we can try for a fixed $k[1],k[2]$ all the 32 combinations of $k[3]$ (with randomized others parts) and watch for the distribution of $b[1]$: if it has a low \"crest-factor\", then it  means we found the $k[3]=31$ state. It is not obvious to set directly this state because of the XOR secret key, so after finding a fixed value, we immediately got the secret key as well."
   ]
  },
  {
   "cell_type": "code",
   "execution_count": 5,
   "metadata": {},
   "outputs": [
    {
     "data": {
      "image/png": "[encoded data removed]",
      "text/plain": [
       "<Figure size 1080x576 with 1 Axes>"
      ]
     },
     "metadata": {},
     "output_type": "display_data"
    }
   ],
   "source": [
    "count = 1000\n",
    "crest_row = []\n",
    "for key_3 in range(32):\n",
    "    stat = {}\n",
    "    hip = 0\n",
    "    for _ in range(count):\n",
    "        key = list(map(lambda x: x & mask, os.urandom(16)))\n",
    "        key[1] = 12 # e.g. 12+17 = 29\n",
    "        key[2] = 17\n",
    "        key[3] = key_3\n",
    "\n",
    "        state = ksa(key)\n",
    "        res = prga(state, 16)\n",
    "\n",
    "        if res[1] in stat:\n",
    "            stat[res[1]] += 1\n",
    "        else:\n",
    "            stat[res[1]] = 1\n",
    "\n",
    "    sorted_stat = sorted(stat, key=stat.get, reverse=True)\n",
    "    crest_factor = stat[sorted_stat[0]] / float(stat[sorted_stat[1]])\n",
    "    crest_row.append(crest_factor)\n",
    "    #print(\"key[2]=%d, crest factor: %.4f\" % (key_3, crest_factor))\n",
    "\n",
    "plt.figure(figsize=(15, 8))\n",
    "plt.grid()\n",
    "plt.xticks(range(32))\n",
    "plt.xlabel(\"key[3] value\")\n",
    "plt.ylabel(\"\\\"crest-factor\\\"\")\n",
    "plt.title(\"Search for a fixed value key[3]\")\n",
    "plt.bar(range(32), crest_row);"
   ]
  },
  {
   "cell_type": "markdown",
   "metadata": {},
   "source": [
    "Now fix the $k[3]$ value as well, since this less frequent occurance depends on the key positions preceeding the interesting key. Let's just randomly select a value for the range where $s[2]=0$ meets, so strictly not the currently found _detection value_."
   ]
  },
  {
   "cell_type": "code",
   "execution_count": 6,
   "metadata": {},
   "outputs": [
    {
     "name": "stdout",
     "output_type": "stream",
     "text": [
      "Keys to try iteratively (without key[0]!):  [12, 17, 30, 28, 27, 26, 25, 24, 23, 22, 21, 20, 31, 18, 17]\n",
      "Detection fixed values (for key[3..15]):  [31, 29, 28, 27, 26, 25, 24, 23, 22, 21, 0, 19, 18]\n"
     ]
    }
   ],
   "source": [
    "count = 1000\n",
    "crest_threshold = 5\n",
    "known_keys=[12, 17]\n",
    "\n",
    "for key_idx in list(range(3, 16)):\n",
    "    #print(\"processing key[%d]\" % (key_idx))\n",
    "    detection = -1;\n",
    "    crest_min_counter = 0;\n",
    "\n",
    "    for new_key in range(32):\n",
    "        stat = {}\n",
    "\n",
    "        for i in range(count):\n",
    "            key = list(map(lambda x: x & 31, os.urandom(16)))\n",
    "\n",
    "            key[1:key_idx] = known_keys\n",
    "            key[key_idx] = new_key\n",
    "            state = ksa(key)\n",
    "            res = prga(state, 16)\n",
    "\n",
    "            if res[1] in stat:\n",
    "                stat[res[1]] += 1\n",
    "            else:\n",
    "                stat[res[1]] = 1\n",
    "\n",
    "        sorted_stat = sorted(stat, key=stat.get, reverse=True)\n",
    "        crest = stat[sorted_stat[0]] / float(stat[sorted_stat[1]])\n",
    "        #print(\"key[%d]: iter=%d crest=%.4f\" % (key_idx, new_key, crest))\n",
    "        #print(\"diff:\", [(x, stat[x]) for x in sorted_stat][:5])\n",
    "\n",
    "        if crest < crest_threshold:\n",
    "            crest_min_counter += 1;\n",
    "            detection = new_key\n",
    "\n",
    "    if crest_min_counter == 1:\n",
    "        #print(\"key[%d] detector at: %d\" % (key_idx, detection))\n",
    "        known_keys.append((detection - 1) % 32) # just select a non-detector value\n",
    "    else:\n",
    "        print(\"No or more than one crest min at key[%d]\" % (key_idx))\n",
    "        break\n",
    "        \n",
    "print(\"Keys to try iteratively (without key[0]!): \", known_keys)\n",
    "print(\"Detection fixed values (for key[3..15]): \", list(map(lambda x: (x+1)&mask, known_keys[2:])))"
   ]
  },
  {
   "cell_type": "markdown",
   "metadata": {},
   "source": [
    "So using the detection fixed values at the given key index, one can found the XOR-ed original secret key byte."
   ]
  },
  {
   "cell_type": "markdown",
   "metadata": {},
   "source": [
    "Finally this way we can gain every byte of the secret key except the first. Well, just simply brute force it! We can brute-force more, if we afraid of the network delays/slowness. (I was brute-forcing 3 indexes, and it wasn't noticable at all!)"
   ]
  },
  {
   "cell_type": "markdown",
   "metadata": {},
   "source": [
    "## Local zer0C4 attack"
   ]
  },
  {
   "cell_type": "code",
   "execution_count": 7,
   "metadata": {
    "scrolled": false
   },
   "outputs": [
    {
     "name": "stdout",
     "output_type": "stream",
     "text": [
      "secret key to be guessed: [0, 28, 5, 12, 9, 8, 21, 30, 2, 20, 2, 0, 4, 3, 18, 9]\n",
      "key[1]=28, key[2]=5\n",
      "processing key[3]\n",
      "key[3] detector at: 19\n",
      "processing key[4]\n",
      "key[4] detector at: 20\n",
      "processing key[5]\n",
      "key[5] detector at: 20\n",
      "processing key[6]\n",
      "key[6] detector at: 14\n",
      "processing key[7]\n",
      "key[7] detector at: 4\n",
      "processing key[8]\n",
      "key[8] detector at: 27\n",
      "processing key[9]\n",
      "key[9] detector at: 12\n",
      "processing key[10]\n",
      "key[10] detector at: 21\n",
      "processing key[11]\n",
      "key[11] detector at: 22\n",
      "processing key[12]\n",
      "key[12] detector at: 17\n",
      "processing key[13]\n",
      "key[13] detector at: 3\n",
      "[0, 28, 5, 12, 9, 8, 21, 30, 2, 20, 2, 0, 4, 3, 18, 9]\n",
      "This is the same? > True\n"
     ]
    }
   ],
   "source": [
    "import os\n",
    "\n",
    "N = 5\n",
    "mask = (1 << N) - 1\n",
    "klen = 16\n",
    "\n",
    "def ksa(key):\n",
    "\t\"\"\"Key-scheduling algorithm for 0ops Cipher 4\"\"\"\n",
    "\ts = list(range(1 << N))\n",
    "\ti = 0\n",
    "\tj = 0\n",
    "\twhile 1:\n",
    "\t\ti = (i + 1) & mask\n",
    "\t\tj = (j + s[i] + key[i%len(key)]) & mask\n",
    "\t\ts[i], s[j] = s[j], s[i]\n",
    "\t\tif not i:\n",
    "\t\t\tbreak\n",
    "\treturn s\n",
    "\n",
    "def prga(s, n):\n",
    "\t\"\"\"Pseudo-random generation algorithm for 0ops Cipher 4\"\"\"\n",
    "\ti = 0\n",
    "\tj = 0\n",
    "\tres = bytearray()\n",
    "\tfor _ in range(n):\n",
    "\t\ti = (i + 1) & mask\n",
    "\t\tj = (j + s[i]) & mask\n",
    "\t\ts[i], s[j] = s[j], s[i]\n",
    "\t\tres.append(s[(s[i]+s[j])&mask])\n",
    "\treturn res\n",
    "\n",
    "\n",
    "def gen_stream(modifier):\n",
    "\tcurrent_key = [ii^jj for ii,jj in zip(key, modifier)]\n",
    "\treturn prga(ksa(current_key), 16)\n",
    "\n",
    "\n",
    "def solve():\n",
    "\tcrest_threshold_counter = 0\n",
    "\tcount = 512\n",
    "\n",
    "\tfor new_key in range(32):\n",
    "\t\t# attacking key[1] and key[2]\n",
    "\t\tstat = {}\n",
    "\t\tfor _ in range(count):\n",
    "\t\t\tmodifier = list(map(lambda x: x & 31, os.urandom(16)))\n",
    "\t\t\tmodifier[1] = new_key\n",
    "\t\t\tmodifier[2] = 0 # fix, no to change (thus not to generate \"noise\")\n",
    "\t\t\tres = gen_stream(modifier)\n",
    "\n",
    "\t\t\tif res[0] in stat:\n",
    "\t\t\t\tstat[res[0]] += 1\n",
    "\t\t\telse:\n",
    "\t\t\t\tstat[res[0]] = 1\n",
    "\n",
    "\t\tsorted_stat = sorted(stat, key=stat.get, reverse=True)\n",
    "\t\tcrest = stat[sorted_stat[0]] / float(stat[sorted_stat[1]])\n",
    "\t\t#print(\"key[%d]: iter=%d crest=%.4f\" % (1, new_key, crest))\n",
    "\n",
    "\t\tif crest > 2:\n",
    "\t\t\tcrest_threshold_counter += 1;\n",
    "\t\t\tkey_1 = new_key\n",
    "\t\t\tkey_2 = (sorted_stat[0] - 3) % 32\n",
    "\n",
    "\tif crest_threshold_counter == 1:\n",
    "\t\tprint(\"key[1]=%d, key[2]=%d\" % (key_1, key_2))\n",
    "\telse:\n",
    "\t\tprint(\"no or more than one detection!\")\n",
    "\t\tprint(\"roll the dice again ;)\")\n",
    "\n",
    "\t# attack from key[3] to key[13]\n",
    "\trecovered_key = [key_1, key_2]\n",
    "\tprobe_keys = [12, 17, 30, 28, 27, 26, 25, 24, 23, 22, 21, 20, 31, 18, 17]\n",
    "\tdetectors =  [ 0,  0, 31, 29, 28, 27, 26, 25, 24, 23, 22, 21,  0, 19, 18]\n",
    "\n",
    "\tfor key_idx in range(3, 13+1):\n",
    "\t\tprint(\"processing key[%d]\" % (key_idx))\n",
    "\t\tdetection = -1;\n",
    "\t\tcrest_min_counter = 0;\n",
    "\n",
    "\t\tfor new_key in range(32):\n",
    "\n",
    "\t\t\tstat = {}\n",
    "\t\t\tfor i in range(count):\n",
    "\t\t\t\tmodifier = list(map(lambda x: x & 31, os.urandom(16)))\n",
    "\t\t\t\t# now we have to xor with the already found keys in order to have control\n",
    "\t\t\t\tmodifier[1:key_idx] = [i^j for i, j in zip(probe_keys, recovered_key)]\n",
    "\t\t\t\tmodifier[key_idx] = new_key\n",
    "\t\t\t\tres = gen_stream(modifier)\n",
    "\t\t\t\t\n",
    "\t\t\t\tif res[1] in stat:\n",
    "\t\t\t\t\tstat[res[1]] += 1\n",
    "\t\t\t\telse:\n",
    "\t\t\t\t\tstat[res[1]] = 1\n",
    "\n",
    "\t\t\tsorted_stat = sorted(stat, key=stat.get, reverse=True)\n",
    "\t\t\tcrest = stat[sorted_stat[0]] / float(stat[sorted_stat[1]])\n",
    "\t\t\t#print(\"key[%d]: iter=%d crest=%.4f\" % (key_idx, new_key, crest))\n",
    "\n",
    "\t\t\tif crest < 5:\n",
    "\t\t\t\tcrest_min_counter += 1;\n",
    "\t\t\t\tdetection = new_key\n",
    "\n",
    "\t\tif crest_min_counter == 1:\n",
    "\t\t\tprint(\"key[%d] detector at: %d\" % (key_idx, detection))\n",
    "\t\t\trecovered_key.append((detection ^ detectors[len(recovered_key)]) % 32)\n",
    "\t\t\t#print(\"known xorkey so far:\", recovered_key)\n",
    "\t\telse:\n",
    "\t\t\tprint(\"No or more than one crest min at key[%d]\" % (key_idx))\n",
    "\t\t\tbreak\n",
    "\n",
    "\t# key[0] és key[14], key[15] local brute force attack\n",
    "\t# this is because network traffic thought to be slow\n",
    "\tfor key_0 in range(32):\n",
    "\t\tfor key_14 in range(32):\n",
    "\t\t\tfor key_15 in range(32):\n",
    "\t\t\t\tmodifier = [0]*16\n",
    "\t\t\t\tmodifier[0] = key_0\n",
    "\t\t\t\tmodifier[1:14] = recovered_key\n",
    "\t\t\t\tmodifier[14] = key_14\n",
    "\t\t\t\tmodifier[15] = key_15\n",
    "\t\t\t\tif allzero == gen_stream(modifier):\n",
    "\t\t\t\t\tsol = [key_0] + recovered_key + [key_14, key_15]\n",
    "\t\t\t\t\treturn sol\n",
    "\n",
    "\n",
    "allzero = prga(ksa([0]*16), 16)\n",
    "key = list(map(lambda x: x & 31, os.urandom(16)))\n",
    "print(\"secret key to be guessed:\", key)\n",
    "guessed_key = solve()\n",
    "print(guessed_key)\n",
    "print(\"This is the same? >\",guessed_key == key)"
   ]
  },
  {
   "cell_type": "markdown",
   "metadata": {},
   "source": [
    "Notes:\n",
    "- the current implementation uses 512 probes per index per values, so altogether less than 200000 message used (~100000 on average)\n",
    "- the _high probability_ expression here only refers to an experimentally guessed metric, further analysis should be performed on the topic!\n",
    "- at the challenge we faced other infrastuctural issues, such as the key at the server doen't remained the original secret key, instead it saved the previous XOR-ed form (thanks to @ngg for his kind help)\n",
    "- for the server multiple key had to be collected; maximal batch size was 512 (also thanks to @ngg)"
   ]
  }
 ],
 "metadata": {
  "kernelspec": {
   "display_name": "Python 3",
   "language": "python",
   "name": "python3"
  },
  "language_info": {
   "codemirror_mode": {
    "name": "ipython",
    "version": 3
   },
   "file_extension": ".py",
   "mimetype": "text/x-python",
   "name": "python",
   "nbconvert_exporter": "python",
   "pygments_lexer": "ipython3",
   "version": "3.6.4"
  }
 },
 "nbformat": 4,
 "nbformat_minor": 2
}
